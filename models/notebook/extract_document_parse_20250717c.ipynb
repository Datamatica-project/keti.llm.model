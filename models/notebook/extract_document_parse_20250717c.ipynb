{
 "cells": [
  {
   "cell_type": "code",
   "execution_count": 4,
   "id": "6741e8d8-74a6-40fe-a002-0d1e7f6ffe79",
   "metadata": {},
   "outputs": [],
   "source": [
    "import json \n",
    "import requests\n",
    " \n",
    "api_key = \"\"\n",
    "filename = \"5 고추 최종파일_단면.pdf\"\n",
    " \n",
    "url = \"https://api.upstage.ai/v1/document-digitization\"\n",
    "headers = {\"Authorization\": f\"Bearer {api_key}\"}\n",
    "files = {\"document\": open(filename, \"rb\")}\n",
    "data = {\"ocr\": \"force\", \"base64_encoding\": \"['table']\", \"model\": \"document-parse\"}\n",
    "response = requests.post(url, headers=headers, files=files, data=data)"
   ]
  },
  {
   "cell_type": "code",
   "execution_count": 5,
   "id": "e92beb49-f44d-4a8c-a152-b0d7c0b7a291",
   "metadata": {},
   "outputs": [
    {
     "data": {
      "text/plain": [
       "{'error': {'message': 'The uploaded document has too many pages. Please split your document into smaller parts or include only the necessary pages.',\n",
       "  'type': 'invalid_request_error',\n",
       "  'code': 'invalid_document',\n",
       "  'param': 'document'}}"
      ]
     },
     "execution_count": 5,
     "metadata": {},
     "output_type": "execute_result"
    }
   ],
   "source": [
    "response.json()"
   ]
  },
  {
   "cell_type": "code",
   "execution_count": 8,
   "id": "e02500ab-ed4a-4142-88aa-beeb46dd1f89",
   "metadata": {},
   "outputs": [
    {
     "name": "stdout",
     "output_type": "stream",
     "text": [
      "Collecting pypdf\n",
      "  Downloading pypdf-5.8.0-py3-none-any.whl (309 kB)\n",
      "\u001B[2K     \u001B[90m━━━━━━━━━━━━━━━━━━━━━━━━━━━━━━━━━━━━━━━\u001B[0m \u001B[32m309.7/309.7 KB\u001B[0m \u001B[31m7.8 MB/s\u001B[0m eta \u001B[36m0:00:00\u001B[0m00:01\u001B[0m\n",
      "\u001B[?25hRequirement already satisfied: typing_extensions>=4.0 in /usr/local/lib/python3.10/dist-packages (from pypdf) (4.14.1)\n",
      "Installing collected packages: pypdf\n",
      "Successfully installed pypdf-5.8.0\n",
      "\u001B[33mWARNING: Running pip as the 'root' user can result in broken permissions and conflicting behaviour with the system package manager. It is recommended to use a virtual environment instead: https://pip.pypa.io/warnings/venv\u001B[0m\u001B[33m\n",
      "\u001B[0m"
     ]
    }
   ],
   "source": [
    "! pip install pypdf"
   ]
  },
  {
   "cell_type": "code",
   "execution_count": 11,
   "id": "cccd25c6-fffb-44c7-b0a6-e38efc85e726",
   "metadata": {
    "scrolled": true
   },
   "outputs": [
    {
     "name": "stdout",
     "output_type": "stream",
     "text": [
      "✅ Saved: ./split_pdfs/20 무_고화질_단면_1_20.pdf\n",
      "✅ Saved: ./split_pdfs/20 무_고화질_단면_21_40.pdf\n",
      "✅ Saved: ./split_pdfs/20 무_고화질_단면_41_60.pdf\n",
      "✅ Saved: ./split_pdfs/20 무_고화질_단면_61_80.pdf\n",
      "✅ Saved: ./split_pdfs/20 무_고화질_단면_81_100.pdf\n",
      "✅ Saved: ./split_pdfs/20 무_고화질_단면_101_120.pdf\n",
      "✅ Saved: ./split_pdfs/20 무_고화질_단면_121_140.pdf\n",
      "✅ Saved: ./split_pdfs/20 무_고화질_단면_141_156.pdf\n"
     ]
    }
   ],
   "source": [
    "from pypdf import PdfReader, PdfWriter\n",
    "import os\n",
    "import re\n",
    "\n",
    "def split_pdf(input_path, output_dir, chunk_size=5):\n",
    "    reader = PdfReader(input_path)\n",
    "    total_pages = len(reader.pages)\n",
    "\n",
    "    file_name = os.path.basename(input_path)\n",
    "    cleaned_name = re.sub(r\"\\.pdf$\", \"\", file_name, flags=re.IGNORECASE)\n",
    "\n",
    "    for i in range(0, total_pages, chunk_size):\n",
    "        writer = PdfWriter()\n",
    "        for j in range(i, min(i + chunk_size, total_pages)):\n",
    "            writer.add_page(reader.pages[j])\n",
    "        \n",
    "        output_path = f\"{output_dir}/{cleaned_name}_{i+1}_{min(i+chunk_size, total_pages)}.pdf\"\n",
    "        with open(output_path, \"wb\") as f:\n",
    "            writer.write(f)\n",
    "        print(f\"✅ Saved: {output_path}\")\n",
    "\n",
    "split_pdf(\"./raw_pdfs/20 무_고화질_단면.pdf\", \"./split_pdfs\", chunk_size=20)"
   ]
  },
  {
   "cell_type": "code",
   "execution_count": 26,
   "id": "a8bd54f9-e3e9-41a2-9103-1919ef0224ae",
   "metadata": {},
   "outputs": [],
   "source": [
    "import os \n",
    "import requests\n",
    "import json\n",
    "\n",
    "def split_pdf(input_path, output_dir, chunk_size):\n",
    "    reader = PdfReader(input_path)\n",
    "    total_pages = len(reader.pages)\n",
    "    split_files = []\n",
    "\n",
    "    file_name = os.path.basename(input_path)\n",
    "    cleaned_name = re.sub(r\"\\.pdf$\", \"\", file_name, flags=re.IGNORECASE)\n",
    "\n",
    "    for i in range(0, total_pages, chunk_size):\n",
    "        writer = PdfWriter()\n",
    "        for j in range(i, min(i + chunk_size, total_pages)):\n",
    "            writer.add_page(reader.pages[j])\n",
    "        \n",
    "        split_filename = os.path.join(output_dir, f\"{cleaned_name}_{i+1}_{min(i + chunk_size, total_pages)}.pdf\")\n",
    "        with open(split_filename, \"wb\") as f:\n",
    "            writer.write(f)\n",
    "        split_files.append(split_filename)\n",
    "\n",
    "    return split_files\n",
    "\n",
    "def send_to_upstage(pdf_path):\n",
    "    url = \"https://api.upstage.ai/v1/document-digitization\"\n",
    "    headers = {\"Authorization\": f\"Bearer {api_key}\"}\n",
    "    files = {\"document\": open(pdf_path, \"rb\")}\n",
    "    data = {\n",
    "        \"ocr\": \"force\",\n",
    "        \"base64_encoding\": \"['table']\",\n",
    "        \"model\": \"document-parse\"\n",
    "    }\n",
    "\n",
    "    response = requests.post(url, headers=headers, files=files, data=data)\n",
    "    if response.status_code == 200:\n",
    "        return response.json()\n",
    "    else:\n",
    "        print(f\"Error for {pdf_path}: {response.status_code}, {response.text}\")\n",
    "        return None\n"
   ]
  },
  {
   "cell_type": "code",
   "execution_count": 38,
   "id": "8bbf9496-6739-404d-bb13-388ab1a8e9ab",
   "metadata": {
    "scrolled": true
   },
   "outputs": [
    {
     "name": "stdout",
     "output_type": "stream",
     "text": [
      "Sending ./split_pdfs/조사료-단면_1_30.pdf to Upstage...\n",
      "Saved result to ./split_pdfs/조사료-단면_1_30.json\n",
      "Sending ./split_pdfs/조사료-단면_31_60.pdf to Upstage...\n",
      "Saved result to ./split_pdfs/조사료-단면_31_60.json\n",
      "Sending ./split_pdfs/조사료-단면_61_90.pdf to Upstage...\n",
      "Saved result to ./split_pdfs/조사료-단면_61_90.json\n",
      "Sending ./split_pdfs/조사료-단면_91_120.pdf to Upstage...\n",
      "Saved result to ./split_pdfs/조사료-단면_91_120.json\n",
      "Sending ./split_pdfs/조사료-단면_121_150.pdf to Upstage...\n",
      "Saved result to ./split_pdfs/조사료-단면_121_150.json\n",
      "Sending ./split_pdfs/조사료-단면_151_180.pdf to Upstage...\n",
      "Saved result to ./split_pdfs/조사료-단면_151_180.json\n",
      "Sending ./split_pdfs/조사료-단면_181_210.pdf to Upstage...\n",
      "Saved result to ./split_pdfs/조사료-단면_181_210.json\n",
      "Sending ./split_pdfs/조사료-단면_211_240.pdf to Upstage...\n",
      "Saved result to ./split_pdfs/조사료-단면_211_240.json\n",
      "Sending ./split_pdfs/조사료-단면_241_270.pdf to Upstage...\n",
      "Saved result to ./split_pdfs/조사료-단면_241_270.json\n",
      "Sending ./split_pdfs/조사료-단면_271_300.pdf to Upstage...\n",
      "Saved result to ./split_pdfs/조사료-단면_271_300.json\n",
      "Sending ./split_pdfs/조사료-단면_301_330.pdf to Upstage...\n",
      "Saved result to ./split_pdfs/조사료-단면_301_330.json\n",
      "Sending ./split_pdfs/조사료-단면_331_342.pdf to Upstage...\n",
      "Saved result to ./split_pdfs/조사료-단면_331_342.json\n"
     ]
    }
   ],
   "source": [
    "api_key = \"up_jj82424jbVXiORp7IphLE4DBphRUf\"\n",
    "\n",
    "split_files = split_pdf(\"./raw_pdfs/조사료-단면.pdf\", \"./split_pdfs\", chunk_size=30)\n",
    "\n",
    "for f in split_files:\n",
    "    print(f\"Sending {f} to Upstage...\")\n",
    "    result = send_to_upstage(f)\n",
    "    if result:\n",
    "        # JSON 결과 저장\n",
    "        json_name = f.replace(\".pdf\", \".json\")\n",
    "        with open(json_name, \"w\", encoding=\"utf-8\") as jf:\n",
    "            json.dump(result, jf, ensure_ascii=False, indent=2)\n",
    "        print(f\"Saved result to {json_name}\")"
   ]
  },
  {
   "cell_type": "code",
   "execution_count": 35,
   "id": "9f867757-ddbe-4431-bdfa-ae6d67858cb4",
   "metadata": {},
   "outputs": [
    {
     "data": {
      "text/plain": [
       "['./split_pdfs/농업기술길잡이127_부추_1_30.pdf',\n",
       " './split_pdfs/농업기술길잡이127_부추_31_60.pdf',\n",
       " './split_pdfs/농업기술길잡이127_부추_61_90.pdf',\n",
       " './split_pdfs/농업기술길잡이127_부추_91_120.pdf',\n",
       " './split_pdfs/농업기술길잡이127_부추_121_150.pdf',\n",
       " './split_pdfs/농업기술길잡이127_부추_151_180.pdf',\n",
       " './split_pdfs/농업기술길잡이127_부추_181_200.pdf']"
      ]
     },
     "execution_count": 35,
     "metadata": {},
     "output_type": "execute_result"
    }
   ],
   "source": [
    "split_files"
   ]
  },
  {
   "cell_type": "code",
   "execution_count": null,
   "id": "beca4b9b-f7b4-48fb-b058-585242f5c247",
   "metadata": {},
   "outputs": [],
   "source": []
  }
 ],
 "metadata": {
  "kernelspec": {
   "display_name": "Python 3 (ipykernel)",
   "language": "python",
   "name": "python3"
  },
  "language_info": {
   "codemirror_mode": {
    "name": "ipython",
    "version": 3
   },
   "file_extension": ".py",
   "mimetype": "text/x-python",
   "name": "python",
   "nbconvert_exporter": "python",
   "pygments_lexer": "ipython3",
   "version": "3.10.12"
  }
 },
 "nbformat": 4,
 "nbformat_minor": 5
}
